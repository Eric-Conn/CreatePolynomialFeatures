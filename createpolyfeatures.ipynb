{
 "cells": [
  {
   "cell_type": "markdown",
   "metadata": {},
   "source": [
    "### Polynomial Features Project\n",
    "\n",
    "For this project we will create an algorithm that take in a pandas dataframe and creates polynomial (higher degree)  features from a numeric column, and returns a new dataframe with the polynomial features."
   ]
  },
  {
   "cell_type": "markdown",
   "metadata": {},
   "source": [
    "#### Math Background\n",
    "\n",
    "Given a numerical feature, we may want to create higher degree features. So given a value $x$, we want an algorithm that returns the tuple $( x, x^2, x^3, ..., x^p)$.\n",
    "\n",
    "Now, given a dataframe $df1$, and a polynomial degree $p$, and a numerical column which we wish to transform, we want an algorithm that returns a dataframe $df2$ with all of the original features from $df1$, and concatenated on, the new higher degree features, up to and including degree p. This algorithm will also keep the column to be transformed and its transformed columns all adjacent to eachother in the resulting dataframe $df2$. "
   ]
  },
  {
   "cell_type": "markdown",
   "metadata": {},
   "source": [
    "### Code"
   ]
  },
  {
   "cell_type": "code",
   "execution_count": 18,
   "metadata": {
    "execution": {
     "iopub.execute_input": "2024-03-21T16:33:08.693688Z",
     "iopub.status.busy": "2024-03-21T16:33:08.692862Z",
     "iopub.status.idle": "2024-03-21T16:33:09.890441Z",
     "shell.execute_reply": "2024-03-21T16:33:09.889346Z",
     "shell.execute_reply.started": "2024-03-21T16:33:08.693650Z"
    }
   },
   "outputs": [],
   "source": [
    "import numpy as np\n",
    "import pandas as pd"
   ]
  },
  {
   "cell_type": "code",
   "execution_count": 19,
   "metadata": {
    "execution": {
     "iopub.execute_input": "2024-03-21T17:15:13.726596Z",
     "iopub.status.busy": "2024-03-21T17:15:13.726187Z",
     "iopub.status.idle": "2024-03-21T17:15:13.737116Z",
     "shell.execute_reply": "2024-03-21T17:15:13.735836Z",
     "shell.execute_reply.started": "2024-03-21T17:15:13.726564Z"
    }
   },
   "outputs": [],
   "source": [
    "# So we want construct a function that takes in a dataframe\n",
    "# and returns a new one with the specified poly features.\n",
    "\n",
    "# (df, column_name, highest number of degress we want) |---> new df with poly features\n",
    "\n",
    "\n",
    "\n",
    "\n",
    "def create_poly_from_df(df,column_name,p):\n",
    "    \n",
    "    \n",
    "        \n",
    "    \n",
    "    \n",
    "    df_copy = df.copy()\n",
    "    \n",
    "    # so the first thing we need to do is take in the dataframe \n",
    "    # and isolate the chosen feature.\n",
    "    \n",
    "    data_col = df[column_name].values.copy()\n",
    "    \n",
    "    #Now we want to run a loop that creates each polynomial feature.\n",
    "    \n",
    "    features = []\n",
    "    \n",
    "    new_feature_names = []\n",
    "    \n",
    "    \n",
    "    if p == 1:\n",
    "        return df\n",
    "    \n",
    "    \n",
    "    \n",
    "    for i in range(1,p+1):\n",
    "        \n",
    "        features.append(data_col**i)   #creating the polynomial features.\n",
    "        \n",
    "        \n",
    "        \n",
    "        # Creating the names of our new columns.\n",
    "        if i == 1:\n",
    "            new_feature_names.append(column_name)\n",
    "        else: \n",
    "            new_feature_names.append(column_name + f'^{i}')\n",
    "        \n",
    "        \n",
    "        \n",
    "    poly_df = pd.DataFrame(np.array(features).T)   #Our dataframe of polynomial features.\n",
    "    \n",
    "  \n",
    "    poly_df.columns = new_feature_names #Assigning column names\n",
    "    poly_df.index = df_copy.index #Assigning the index of the inputted dataframe.\n",
    "    \n",
    "    \n",
    "    if type(df) == pd.core.series.Series:\n",
    "        return  poly_df #Dropping the feature from new_df because it is\n",
    "    # included in the new dataframe.\n",
    "     \n",
    "        \n",
    "        \n",
    "        \n",
    "        \n",
    "        \n",
    "        \n",
    "    df_copy.drop(column_name,inplace = True,axis = 1) \n",
    "    \n",
    "    \n",
    "    return pd.concat([df_copy,poly_df],axis = 1) #Concatonating or old dataframe to the new one.\n",
    "\n",
    "\n",
    "\n",
    "\n",
    "    \n",
    "    \n",
    "        \n",
    "    \n",
    "    \n",
    "    \n",
    "    "
   ]
  },
  {
   "cell_type": "markdown",
   "metadata": {},
   "source": [
    "# Example\n",
    "\n",
    "We can apply our function to the iris datasets sepal_length feature."
   ]
  },
  {
   "cell_type": "code",
   "execution_count": 20,
   "metadata": {
    "execution": {
     "iopub.execute_input": "2024-03-21T16:57:00.930776Z",
     "iopub.status.busy": "2024-03-21T16:57:00.929868Z",
     "iopub.status.idle": "2024-03-21T16:57:01.130841Z",
     "shell.execute_reply": "2024-03-21T16:57:01.129430Z",
     "shell.execute_reply.started": "2024-03-21T16:57:00.930740Z"
    }
   },
   "outputs": [],
   "source": [
    "iris = pd.read_csv('https://raw.githubusercontent.com/mwaskom/seaborn-data/master/iris.csv')\n"
   ]
  },
  {
   "cell_type": "code",
   "execution_count": 21,
   "metadata": {
    "execution": {
     "iopub.execute_input": "2024-03-21T17:15:17.055469Z",
     "iopub.status.busy": "2024-03-21T17:15:17.055056Z",
     "iopub.status.idle": "2024-03-21T17:15:17.072232Z",
     "shell.execute_reply": "2024-03-21T17:15:17.070693Z",
     "shell.execute_reply.started": "2024-03-21T17:15:17.055437Z"
    }
   },
   "outputs": [
    {
     "data": {
      "text/html": [
       "<div>\n",
       "<style scoped>\n",
       "    .dataframe tbody tr th:only-of-type {\n",
       "        vertical-align: middle;\n",
       "    }\n",
       "\n",
       "    .dataframe tbody tr th {\n",
       "        vertical-align: top;\n",
       "    }\n",
       "\n",
       "    .dataframe thead th {\n",
       "        text-align: right;\n",
       "    }\n",
       "</style>\n",
       "<table border=\"1\" class=\"dataframe\">\n",
       "  <thead>\n",
       "    <tr style=\"text-align: right;\">\n",
       "      <th></th>\n",
       "      <th>sepal_length</th>\n",
       "      <th>sepal_width</th>\n",
       "      <th>petal_length</th>\n",
       "      <th>petal_width</th>\n",
       "      <th>species</th>\n",
       "    </tr>\n",
       "  </thead>\n",
       "  <tbody>\n",
       "    <tr>\n",
       "      <th>0</th>\n",
       "      <td>5.1</td>\n",
       "      <td>3.5</td>\n",
       "      <td>1.4</td>\n",
       "      <td>0.2</td>\n",
       "      <td>setosa</td>\n",
       "    </tr>\n",
       "    <tr>\n",
       "      <th>1</th>\n",
       "      <td>4.9</td>\n",
       "      <td>3.0</td>\n",
       "      <td>1.4</td>\n",
       "      <td>0.2</td>\n",
       "      <td>setosa</td>\n",
       "    </tr>\n",
       "    <tr>\n",
       "      <th>2</th>\n",
       "      <td>4.7</td>\n",
       "      <td>3.2</td>\n",
       "      <td>1.3</td>\n",
       "      <td>0.2</td>\n",
       "      <td>setosa</td>\n",
       "    </tr>\n",
       "    <tr>\n",
       "      <th>3</th>\n",
       "      <td>4.6</td>\n",
       "      <td>3.1</td>\n",
       "      <td>1.5</td>\n",
       "      <td>0.2</td>\n",
       "      <td>setosa</td>\n",
       "    </tr>\n",
       "    <tr>\n",
       "      <th>4</th>\n",
       "      <td>5.0</td>\n",
       "      <td>3.6</td>\n",
       "      <td>1.4</td>\n",
       "      <td>0.2</td>\n",
       "      <td>setosa</td>\n",
       "    </tr>\n",
       "  </tbody>\n",
       "</table>\n",
       "</div>"
      ],
      "text/plain": [
       "   sepal_length  sepal_width  petal_length  petal_width species\n",
       "0           5.1          3.5           1.4          0.2  setosa\n",
       "1           4.9          3.0           1.4          0.2  setosa\n",
       "2           4.7          3.2           1.3          0.2  setosa\n",
       "3           4.6          3.1           1.5          0.2  setosa\n",
       "4           5.0          3.6           1.4          0.2  setosa"
      ]
     },
     "execution_count": 21,
     "metadata": {},
     "output_type": "execute_result"
    }
   ],
   "source": [
    "iris.head()"
   ]
  },
  {
   "cell_type": "code",
   "execution_count": 22,
   "metadata": {
    "execution": {
     "iopub.execute_input": "2024-03-21T17:01:29.487741Z",
     "iopub.status.busy": "2024-03-21T17:01:29.487347Z",
     "iopub.status.idle": "2024-03-21T17:01:29.508268Z",
     "shell.execute_reply": "2024-03-21T17:01:29.506937Z",
     "shell.execute_reply.started": "2024-03-21T17:01:29.487712Z"
    }
   },
   "outputs": [
    {
     "data": {
      "text/html": [
       "<div>\n",
       "<style scoped>\n",
       "    .dataframe tbody tr th:only-of-type {\n",
       "        vertical-align: middle;\n",
       "    }\n",
       "\n",
       "    .dataframe tbody tr th {\n",
       "        vertical-align: top;\n",
       "    }\n",
       "\n",
       "    .dataframe thead th {\n",
       "        text-align: right;\n",
       "    }\n",
       "</style>\n",
       "<table border=\"1\" class=\"dataframe\">\n",
       "  <thead>\n",
       "    <tr style=\"text-align: right;\">\n",
       "      <th></th>\n",
       "      <th>sepal_width</th>\n",
       "      <th>petal_length</th>\n",
       "      <th>petal_width</th>\n",
       "      <th>species</th>\n",
       "      <th>sepal_length</th>\n",
       "      <th>sepal_length^2</th>\n",
       "      <th>sepal_length^3</th>\n",
       "    </tr>\n",
       "  </thead>\n",
       "  <tbody>\n",
       "    <tr>\n",
       "      <th>0</th>\n",
       "      <td>3.5</td>\n",
       "      <td>1.4</td>\n",
       "      <td>0.2</td>\n",
       "      <td>setosa</td>\n",
       "      <td>5.1</td>\n",
       "      <td>26.01</td>\n",
       "      <td>132.651</td>\n",
       "    </tr>\n",
       "    <tr>\n",
       "      <th>1</th>\n",
       "      <td>3.0</td>\n",
       "      <td>1.4</td>\n",
       "      <td>0.2</td>\n",
       "      <td>setosa</td>\n",
       "      <td>4.9</td>\n",
       "      <td>24.01</td>\n",
       "      <td>117.649</td>\n",
       "    </tr>\n",
       "    <tr>\n",
       "      <th>2</th>\n",
       "      <td>3.2</td>\n",
       "      <td>1.3</td>\n",
       "      <td>0.2</td>\n",
       "      <td>setosa</td>\n",
       "      <td>4.7</td>\n",
       "      <td>22.09</td>\n",
       "      <td>103.823</td>\n",
       "    </tr>\n",
       "    <tr>\n",
       "      <th>3</th>\n",
       "      <td>3.1</td>\n",
       "      <td>1.5</td>\n",
       "      <td>0.2</td>\n",
       "      <td>setosa</td>\n",
       "      <td>4.6</td>\n",
       "      <td>21.16</td>\n",
       "      <td>97.336</td>\n",
       "    </tr>\n",
       "    <tr>\n",
       "      <th>4</th>\n",
       "      <td>3.6</td>\n",
       "      <td>1.4</td>\n",
       "      <td>0.2</td>\n",
       "      <td>setosa</td>\n",
       "      <td>5.0</td>\n",
       "      <td>25.00</td>\n",
       "      <td>125.000</td>\n",
       "    </tr>\n",
       "  </tbody>\n",
       "</table>\n",
       "</div>"
      ],
      "text/plain": [
       "   sepal_width  petal_length  petal_width species  sepal_length  \\\n",
       "0          3.5           1.4          0.2  setosa           5.1   \n",
       "1          3.0           1.4          0.2  setosa           4.9   \n",
       "2          3.2           1.3          0.2  setosa           4.7   \n",
       "3          3.1           1.5          0.2  setosa           4.6   \n",
       "4          3.6           1.4          0.2  setosa           5.0   \n",
       "\n",
       "   sepal_length^2  sepal_length^3  \n",
       "0           26.01         132.651  \n",
       "1           24.01         117.649  \n",
       "2           22.09         103.823  \n",
       "3           21.16          97.336  \n",
       "4           25.00         125.000  "
      ]
     },
     "execution_count": 22,
     "metadata": {},
     "output_type": "execute_result"
    }
   ],
   "source": [
    "create_poly_from_df(iris,'sepal_length',3).head()"
   ]
  },
  {
   "cell_type": "markdown",
   "metadata": {},
   "source": [
    "We see our new dataframe has sepal_length, sepal_length squared, and sepal_length cubed."
   ]
  },
  {
   "cell_type": "markdown",
   "metadata": {},
   "source": [
    "Now we see how we can create high degree features."
   ]
  },
  {
   "cell_type": "code",
   "execution_count": 23,
   "metadata": {
    "execution": {
     "iopub.execute_input": "2024-03-21T17:15:45.711614Z",
     "iopub.status.busy": "2024-03-21T17:15:45.711211Z",
     "iopub.status.idle": "2024-03-21T17:15:45.728917Z",
     "shell.execute_reply": "2024-03-21T17:15:45.728101Z",
     "shell.execute_reply.started": "2024-03-21T17:15:45.711581Z"
    }
   },
   "outputs": [
    {
     "data": {
      "text/html": [
       "<div>\n",
       "<style scoped>\n",
       "    .dataframe tbody tr th:only-of-type {\n",
       "        vertical-align: middle;\n",
       "    }\n",
       "\n",
       "    .dataframe tbody tr th {\n",
       "        vertical-align: top;\n",
       "    }\n",
       "\n",
       "    .dataframe thead th {\n",
       "        text-align: right;\n",
       "    }\n",
       "</style>\n",
       "<table border=\"1\" class=\"dataframe\">\n",
       "  <thead>\n",
       "    <tr style=\"text-align: right;\">\n",
       "      <th></th>\n",
       "      <th>sepal_length</th>\n",
       "      <th>sepal_length^2</th>\n",
       "      <th>sepal_length^3</th>\n",
       "      <th>sepal_length^4</th>\n",
       "      <th>sepal_length^5</th>\n",
       "      <th>sepal_length^6</th>\n",
       "    </tr>\n",
       "  </thead>\n",
       "  <tbody>\n",
       "    <tr>\n",
       "      <th>0</th>\n",
       "      <td>5.1</td>\n",
       "      <td>26.01</td>\n",
       "      <td>132.651</td>\n",
       "      <td>676.5201</td>\n",
       "      <td>3450.25251</td>\n",
       "      <td>17596.287801</td>\n",
       "    </tr>\n",
       "    <tr>\n",
       "      <th>1</th>\n",
       "      <td>4.9</td>\n",
       "      <td>24.01</td>\n",
       "      <td>117.649</td>\n",
       "      <td>576.4801</td>\n",
       "      <td>2824.75249</td>\n",
       "      <td>13841.287201</td>\n",
       "    </tr>\n",
       "    <tr>\n",
       "      <th>2</th>\n",
       "      <td>4.7</td>\n",
       "      <td>22.09</td>\n",
       "      <td>103.823</td>\n",
       "      <td>487.9681</td>\n",
       "      <td>2293.45007</td>\n",
       "      <td>10779.215329</td>\n",
       "    </tr>\n",
       "    <tr>\n",
       "      <th>3</th>\n",
       "      <td>4.6</td>\n",
       "      <td>21.16</td>\n",
       "      <td>97.336</td>\n",
       "      <td>447.7456</td>\n",
       "      <td>2059.62976</td>\n",
       "      <td>9474.296896</td>\n",
       "    </tr>\n",
       "    <tr>\n",
       "      <th>4</th>\n",
       "      <td>5.0</td>\n",
       "      <td>25.00</td>\n",
       "      <td>125.000</td>\n",
       "      <td>625.0000</td>\n",
       "      <td>3125.00000</td>\n",
       "      <td>15625.000000</td>\n",
       "    </tr>\n",
       "  </tbody>\n",
       "</table>\n",
       "</div>"
      ],
      "text/plain": [
       "   sepal_length  sepal_length^2  sepal_length^3  sepal_length^4  \\\n",
       "0           5.1           26.01         132.651        676.5201   \n",
       "1           4.9           24.01         117.649        576.4801   \n",
       "2           4.7           22.09         103.823        487.9681   \n",
       "3           4.6           21.16          97.336        447.7456   \n",
       "4           5.0           25.00         125.000        625.0000   \n",
       "\n",
       "   sepal_length^5  sepal_length^6  \n",
       "0      3450.25251    17596.287801  \n",
       "1      2824.75249    13841.287201  \n",
       "2      2293.45007    10779.215329  \n",
       "3      2059.62976     9474.296896  \n",
       "4      3125.00000    15625.000000  "
      ]
     },
     "execution_count": 23,
     "metadata": {},
     "output_type": "execute_result"
    }
   ],
   "source": [
    "create_poly_from_df(iris[['sepal_length']],'sepal_length',6).head()"
   ]
  }
 ],
 "metadata": {
  "kaggle": {
   "accelerator": "none",
   "dataSources": [],
   "dockerImageVersionId": 30673,
   "isGpuEnabled": false,
   "isInternetEnabled": true,
   "language": "python",
   "sourceType": "notebook"
  },
  "kernelspec": {
   "display_name": "Python 3 (ipykernel)",
   "language": "python",
   "name": "python3"
  },
  "language_info": {
   "codemirror_mode": {
    "name": "ipython",
    "version": 3
   },
   "file_extension": ".py",
   "mimetype": "text/x-python",
   "name": "python",
   "nbconvert_exporter": "python",
   "pygments_lexer": "ipython3",
   "version": "3.8.13"
  }
 },
 "nbformat": 4,
 "nbformat_minor": 4
}
